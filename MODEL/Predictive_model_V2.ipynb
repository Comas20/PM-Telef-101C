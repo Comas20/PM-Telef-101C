{
 "cells": [
  {
   "cell_type": "code",
   "execution_count": 1,
   "metadata": {},
   "outputs": [
    {
     "name": "stdout",
     "output_type": "stream",
     "text": [
      "Exactitud: 0.9734291094218565\n",
      "AUC-ROC: 0.9965846036793008\n",
      "\n",
      "Informe de clasificación:\n",
      "               precision    recall  f1-score   support\n",
      "\n",
      "           0       0.98      0.98      0.98     98563\n",
      "           1       0.94      0.95      0.94     30488\n",
      "\n",
      "    accuracy                           0.97    129051\n",
      "   macro avg       0.96      0.96      0.96    129051\n",
      "weighted avg       0.97      0.97      0.97    129051\n",
      "\n"
     ]
    }
   ],
   "source": [
    "import pandas as pd\n",
    "from sklearn.model_selection import train_test_split\n",
    "from sklearn.ensemble import RandomForestClassifier\n",
    "from sklearn.metrics import accuracy_score, roc_auc_score, classification_report\n",
    "\n",
    "# Carga de datos\n",
    "archivo = \"../DEPURATION/datos_limpios.xlsx\"  # Cambia al nombre de tu archivo\n",
    "df = pd.read_excel(archivo)\n",
    "\n",
    "# Preprocesamiento\n",
    "\n",
    "# Crear variable binaria para accidente: 1 si TOTAL_VICTIMAS > 0, de lo contrario 0\n",
    "df['accidente_ocurrido'] = (df['TOTAL_VICTIMAS'] > 0).astype(int)\n",
    "\n",
    "# Seleccionar variables de interés\n",
    "features = ['MES', 'DIA_MES', 'METEO_ORIGEN', 'METEO_DESTINO', 'provincia_origen', 'provincia_destino']\n",
    "X = df[features]\n",
    "y = df['accidente_ocurrido']\n",
    "\n",
    "\n",
    "# Codificar variables categóricas\n",
    "X_encoded = pd.get_dummies(X, columns=['METEO_ORIGEN', 'METEO_DESTINO', 'provincia_origen', 'provincia_destino'], drop_first=True)\n",
    "\n",
    "# Dividir en conjunto de entrenamiento y prueba\n",
    "X_train, X_test, y_train, y_test = train_test_split(X_encoded, y, test_size=0.2, random_state=42)\n",
    "\n",
    "# Entrenar el modelo de Random Forest\n",
    "model = RandomForestClassifier(n_estimators=100, random_state=42)\n",
    "model.fit(X_train, y_train)\n",
    "\n",
    "# Predecir en el conjunto de prueba\n",
    "y_pred = model.predict(X_test)\n",
    "y_pred_proba = model.predict_proba(X_test)[:, 1]  # Probabilidad de accidente\n",
    "\n",
    "# Evaluación del modelo\n",
    "print(\"Exactitud:\", accuracy_score(y_test, y_pred))\n",
    "print(\"AUC-ROC:\", roc_auc_score(y_test, y_pred_proba))\n",
    "print(\"\\nInforme de clasificación:\\n\", classification_report(y_test, y_pred))\n"
   ]
  },
  {
   "cell_type": "code",
   "execution_count": 2,
   "metadata": {},
   "outputs": [
    {
     "name": "stdout",
     "output_type": "stream",
     "text": [
      "Modelo guardado como 'modelo_random_forest.pkl'\n"
     ]
    }
   ],
   "source": [
    "import joblib\n",
    "joblib.dump(model, 'modelo_random_forest_weights.pkl')\n",
    "print(\"Modelo guardado como 'modelo_random_forest.pkl'\")"
   ]
  },
  {
   "cell_type": "code",
   "execution_count": 4,
   "metadata": {},
   "outputs": [
    {
     "name": "stdout",
     "output_type": "stream",
     "text": [
      "Exactitud: 0.9946858136485787\n",
      "AUC-ROC: 0.999633461635886\n",
      "\n",
      "Informe de clasificación:\n",
      "               precision    recall  f1-score   support\n",
      "\n",
      "           0       1.00      1.00      1.00    493039\n",
      "           1       0.99      0.99      0.99    152215\n",
      "\n",
      "    accuracy                           0.99    645254\n",
      "   macro avg       0.99      0.99      0.99    645254\n",
      "weighted avg       0.99      0.99      0.99    645254\n",
      "\n"
     ]
    }
   ],
   "source": [
    "model_cargado = joblib.load('../MODEL/modelo_random_forest_weights.pkl')\n",
    "archivo = \"../DEPURATION/datos_limpios.xlsx\"  # Cambia al nombre de tu archivo\n",
    "\n",
    "df = pd.read_excel(archivo)\n",
    "df['accidente_ocurrido'] = (df['TOTAL_VICTIMAS'] > 0).astype(int)\n",
    "\n",
    "X_v2 = df[features]\n",
    "y_v2 = df['accidente_ocurrido']\n",
    "\n",
    "X_v2_encoded = pd.get_dummies(X_v2, columns=['METEO_ORIGEN', 'METEO_DESTINO', 'provincia_origen', 'provincia_destino'], drop_first=True)\n",
    "y_pred_nuevo = model_cargado.predict(X_v2_encoded)\n",
    "y_pred_proba_nuevo = model_cargado.predict_proba(X_v2_encoded)[:, 1]\n",
    "\n",
    "print(\"Exactitud:\", accuracy_score(y_v2, y_pred_nuevo))\n",
    "print(\"AUC-ROC:\", roc_auc_score(y_v2, y_pred_proba_nuevo))\n",
    "print(\"\\nInforme de clasificación:\\n\", classification_report(y_v2, y_pred_nuevo))"
   ]
  },
  {
   "cell_type": "code",
   "execution_count": 5,
   "metadata": {},
   "outputs": [
    {
     "data": {
      "text/html": [
       "<div>\n",
       "<style scoped>\n",
       "    .dataframe tbody tr th:only-of-type {\n",
       "        vertical-align: middle;\n",
       "    }\n",
       "\n",
       "    .dataframe tbody tr th {\n",
       "        vertical-align: top;\n",
       "    }\n",
       "\n",
       "    .dataframe thead th {\n",
       "        text-align: right;\n",
       "    }\n",
       "</style>\n",
       "<table border=\"1\" class=\"dataframe\">\n",
       "  <thead>\n",
       "    <tr style=\"text-align: right;\">\n",
       "      <th></th>\n",
       "      <th>MES</th>\n",
       "      <th>DIA_MES</th>\n",
       "      <th>METEO_ORIGEN</th>\n",
       "      <th>METEO_DESTINO</th>\n",
       "      <th>provincia_origen</th>\n",
       "      <th>provincia_destino</th>\n",
       "      <th>PROBABILIDAD_DE_ACCIDENTE</th>\n",
       "    </tr>\n",
       "  </thead>\n",
       "  <tbody>\n",
       "    <tr>\n",
       "      <th>0</th>\n",
       "      <td>1</td>\n",
       "      <td>1</td>\n",
       "      <td>NaN</td>\n",
       "      <td>1.0</td>\n",
       "      <td>2</td>\n",
       "      <td>3</td>\n",
       "      <td>0.94</td>\n",
       "    </tr>\n",
       "    <tr>\n",
       "      <th>1</th>\n",
       "      <td>1</td>\n",
       "      <td>1</td>\n",
       "      <td>NaN</td>\n",
       "      <td>1.0</td>\n",
       "      <td>2</td>\n",
       "      <td>4</td>\n",
       "      <td>0.97</td>\n",
       "    </tr>\n",
       "    <tr>\n",
       "      <th>2</th>\n",
       "      <td>1</td>\n",
       "      <td>1</td>\n",
       "      <td>NaN</td>\n",
       "      <td>1.0</td>\n",
       "      <td>2</td>\n",
       "      <td>6</td>\n",
       "      <td>0.88</td>\n",
       "    </tr>\n",
       "    <tr>\n",
       "      <th>3</th>\n",
       "      <td>1</td>\n",
       "      <td>1</td>\n",
       "      <td>NaN</td>\n",
       "      <td>1.0</td>\n",
       "      <td>2</td>\n",
       "      <td>8</td>\n",
       "      <td>0.93</td>\n",
       "    </tr>\n",
       "    <tr>\n",
       "      <th>4</th>\n",
       "      <td>1</td>\n",
       "      <td>1</td>\n",
       "      <td>NaN</td>\n",
       "      <td>NaN</td>\n",
       "      <td>2</td>\n",
       "      <td>9</td>\n",
       "      <td>0.20</td>\n",
       "    </tr>\n",
       "  </tbody>\n",
       "</table>\n",
       "</div>"
      ],
      "text/plain": [
       "   MES  DIA_MES  METEO_ORIGEN  METEO_DESTINO  provincia_origen  \\\n",
       "0    1        1           NaN            1.0                 2   \n",
       "1    1        1           NaN            1.0                 2   \n",
       "2    1        1           NaN            1.0                 2   \n",
       "3    1        1           NaN            1.0                 2   \n",
       "4    1        1           NaN            NaN                 2   \n",
       "\n",
       "   provincia_destino  PROBABILIDAD_DE_ACCIDENTE  \n",
       "0                  3                       0.94  \n",
       "1                  4                       0.97  \n",
       "2                  6                       0.88  \n",
       "3                  8                       0.93  \n",
       "4                  9                       0.20  "
      ]
     },
     "execution_count": 5,
     "metadata": {},
     "output_type": "execute_result"
    }
   ],
   "source": [
    "X_test_total = X_v2.loc[X_v2_encoded.index]  # Seleccionamos las filas originales correspondientes a X_test\n",
    "resultado = X_test_total.copy()\n",
    "resultado['PROBABILIDAD_DE_ACCIDENTE'] = y_pred_proba_nuevo\n",
    "resultado.to_excel('final_predicciones_accidentes.xlsx', index=False)\n",
    "resultado.head()\n"
   ]
  }
 ],
 "metadata": {
  "kernelspec": {
   "display_name": ".venv",
   "language": "python",
   "name": "python3"
  },
  "language_info": {
   "codemirror_mode": {
    "name": "ipython",
    "version": 3
   },
   "file_extension": ".py",
   "mimetype": "text/x-python",
   "name": "python",
   "nbconvert_exporter": "python",
   "pygments_lexer": "ipython3",
   "version": "3.13.0"
  }
 },
 "nbformat": 4,
 "nbformat_minor": 2
}
